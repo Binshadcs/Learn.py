{
  "nbformat": 4,
  "nbformat_minor": 0,
  "metadata": {
    "colab": {
      "name": "TASK 14.ipynb",
      "provenance": [],
      "include_colab_link": true
    },
    "kernelspec": {
      "name": "python3",
      "display_name": "Python 3"
    },
    "language_info": {
      "name": "python"
    }
  },
  "cells": [
    {
      "cell_type": "markdown",
      "metadata": {
        "id": "view-in-github",
        "colab_type": "text"
      },
      "source": [
        "<a href=\"https://colab.research.google.com/github/Binshadcs/Learn.py/blob/main/TASK_14.ipynb\" target=\"_parent\"><img src=\"https://colab.research.google.com/assets/colab-badge.svg\" alt=\"Open In Colab\"/></a>"
      ]
    },
    {
      "cell_type": "markdown",
      "metadata": {
        "id": "pDx7KyZoXYNb"
      },
      "source": [
        "1. Create two arrays, one containing elements [1,2], [3,4] and another containing elements [8,18] Now find the solution for this linear equation."
      ]
    },
    {
      "cell_type": "code",
      "metadata": {
        "id": "1HQu2yB2YMbj",
        "outputId": "7ea1cab9-01b4-4e38-82b6-ff99094a0011",
        "colab": {
          "base_uri": "https://localhost:8080/"
        }
      },
      "source": [
        "\n",
        "import numpy as np\n",
        "a=np.array ([[1,2],[3,4]])\n",
        "print (a)\n",
        "b=np.array ([[8],[18]])\n",
        "print (b)\n",
        "x=np.linalg.solve(a,b)\n",
        "print (x)#please type your answer below this line."
      ],
      "execution_count": 1,
      "outputs": [
        {
          "output_type": "stream",
          "text": [
            "[[1 2]\n",
            " [3 4]]\n",
            "[[ 8]\n",
            " [18]]\n",
            "[[2.]\n",
            " [3.]]\n"
          ],
          "name": "stdout"
        }
      ]
    },
    {
      "cell_type": "markdown",
      "metadata": {
        "id": "RyDr51p8ZxQp"
      },
      "source": [
        "2. Create an array containing elements [2, 3, 4]. Now find the sin,cos,tan values of this array elements."
      ]
    },
    {
      "cell_type": "code",
      "metadata": {
        "id": "iXZByHNOaXbk",
        "outputId": "fda0e9fd-d5a3-41a4-c075-5c33e2df2f73",
        "colab": {
          "base_uri": "https://localhost:8080/"
        }
      },
      "source": [
        "#please type your answer below this line.\n",
        "import numpy as np\n",
        "a=np.array([2,3,4])\n",
        "print (a)\n",
        "x=np.sin(a)\n",
        "print (x)\n",
        "y=np.cos(a)\n",
        "print (y)\n",
        "z=np.tan(a)\n",
        "print (z)"
      ],
      "execution_count": 2,
      "outputs": [
        {
          "output_type": "stream",
          "text": [
            "[2 3 4]\n",
            "[ 0.90929743  0.14112001 -0.7568025 ]\n",
            "[-0.41614684 -0.9899925  -0.65364362]\n",
            "[-2.18503986 -0.14254654  1.15782128]\n"
          ],
          "name": "stdout"
        }
      ]
    },
    {
      "cell_type": "markdown",
      "metadata": {
        "id": "Itk2DMc6b60J"
      },
      "source": [
        "3. Given b=[5,6], then find,\n",
        "\n",
        "  a) 2sinb\n",
        "  b) 2cos3b\n",
        "  c) 4tan2b"
      ]
    },
    {
      "cell_type": "code",
      "metadata": {
        "id": "lgxpIaKebw5y",
        "outputId": "54200132-904f-4cb3-ee6a-9e800738bd02",
        "colab": {
          "base_uri": "https://localhost:8080/"
        }
      },
      "source": [
        "#please type your answer below this line.\n",
        "import numpy as np\n",
        "b=np.array([5,6])\n",
        "print(b)\n",
        "\n",
        "a=2*np.sin(b)\n",
        "print(a)\n",
        "\n",
        "c=2*np.cos (3*b)\n",
        "print(c)\n",
        "\n",
        "d=4*np.tan(2*b)\n",
        "print(d)"
      ],
      "execution_count": 4,
      "outputs": [
        {
          "output_type": "stream",
          "text": [
            "[5 6]\n",
            "[-1.91784855 -0.558831  ]\n",
            "[-1.51937583  1.32063342]\n",
            "[ 2.59344331 -2.54343971]\n"
          ],
          "name": "stdout"
        }
      ]
    },
    {
      "cell_type": "code",
      "metadata": {
        "id": "n81s2fQ4CXjz",
        "outputId": "58b07190-42e1-4308-8842-4c1068e4d364",
        "colab": {
          "base_uri": "https://localhost:8080/"
        }
      },
      "source": [
        "B = [5,6]\n",
        "\n",
        "a = 2*np.sin(B)\n",
        "print(a)\n",
        "\n",
        "b = 2*np.cos(3*B)\n",
        "print('\\n',b)\n",
        "\n",
        "c = 4*np.tan(2*b)\n",
        "print('\\n',c)"
      ],
      "execution_count": 5,
      "outputs": [
        {
          "output_type": "stream",
          "text": [
            "[-1.91784855 -0.558831  ]\n",
            "\n",
            " [0.56732437 1.92034057 0.56732437 1.92034057 0.56732437 1.92034057]\n",
            "\n",
            " [8.58216642 3.3629256  8.58216642 3.3629256  8.58216642 3.3629256 ]\n"
          ],
          "name": "stdout"
        }
      ]
    },
    {
      "cell_type": "code",
      "metadata": {
        "id": "YjD5PFgCC5HY",
        "outputId": "fc1c8b8f-6688-4e63-eac3-d7f62237195c",
        "colab": {
          "base_uri": "https://localhost:8080/"
        }
      },
      "source": [
        "import numpy as np\n",
        " \n",
        "ar=np.array([5,6])\n",
        "b1=3*ar\n",
        "c1=2*ar\n",
        " \n",
        "sin_value=np.sin(ar)\n",
        "cos_value=np.cos(b1)\n",
        "tan_value=np.tan(c1)\n",
        " \n",
        "a=2*sin_value\n",
        "b=2*cos_value\n",
        "c=4*tan_value\n",
        " \n",
        "print(\"2sinb = \",a)\n",
        "print(\"2cos3b = \",b)\n",
        "print(\"4tan2b = \",c)"
      ],
      "execution_count": 6,
      "outputs": [
        {
          "output_type": "stream",
          "text": [
            "2sinb =  [-1.91784855 -0.558831  ]\n",
            "2cos3b =  [-1.51937583  1.32063342]\n",
            "4tan2b =  [ 2.59344331 -2.54343971]\n"
          ],
          "name": "stdout"
        }
      ]
    }
  ]
}