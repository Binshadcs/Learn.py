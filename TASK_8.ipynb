{
  "nbformat": 4,
  "nbformat_minor": 0,
  "metadata": {
    "colab": {
      "name": " TASK 8.ipynb",
      "provenance": [],
      "include_colab_link": true
    },
    "kernelspec": {
      "name": "python3",
      "display_name": "Python 3"
    },
    "language_info": {
      "name": "python"
    }
  },
  "cells": [
    {
      "cell_type": "markdown",
      "metadata": {
        "id": "view-in-github",
        "colab_type": "text"
      },
      "source": [
        "<a href=\"https://colab.research.google.com/github/Binshadcs/Learn.py/blob/main/TASK_8.ipynb\" target=\"_parent\"><img src=\"https://colab.research.google.com/assets/colab-badge.svg\" alt=\"Open In Colab\"/></a>"
      ]
    },
    {
      "cell_type": "markdown",
      "metadata": {
        "id": "slsGswYbJSo7"
      },
      "source": [
        "1. Generate a 3 x 3 matrix using random module."
      ]
    },
    {
      "cell_type": "code",
      "metadata": {
        "id": "GGRQSYyNJW9t",
        "colab": {
          "base_uri": "https://localhost:8080/"
        },
        "outputId": "40cd55bb-c0af-4528-fa39-59682b6b61dc"
      },
      "source": [
        "import numpy as np\n",
        "array = np.random.randint(10, size=(3,3))\n",
        "print(array)"
      ],
      "execution_count": 4,
      "outputs": [
        {
          "output_type": "stream",
          "text": [
            "[[8 2 2]\n",
            " [7 0 7]\n",
            " [9 5 1]]\n"
          ],
          "name": "stdout"
        }
      ]
    },
    {
      "cell_type": "markdown",
      "metadata": {
        "id": "4OB9KFX6JfYA"
      },
      "source": [
        "2. Generate two 4 x 4 matrix using numpy and \n",
        "\n",
        " a) Reshape it to 2 x 8matrix and vertically stack it.\n",
        "\n",
        " b) Reshape it to 2 x 8 matrix and horizontally stack it."
      ]
    },
    {
      "cell_type": "code",
      "metadata": {
        "colab": {
          "base_uri": "https://localhost:8080/"
        },
        "id": "RXAinAozOCtf",
        "outputId": "970fb98b-8359-4a5b-e614-10971bf86e0e"
      },
      "source": [
        "list = [[1,2,3,6],[4,5,6,6],[7,8,9,1],[4,5,6,9]]\n",
        "array1 = np.array(list, dtype=int)\n",
        "print(array1)"
      ],
      "execution_count": 18,
      "outputs": [
        {
          "output_type": "stream",
          "text": [
            "[[1 2 3 6]\n",
            " [4 5 6 6]\n",
            " [7 8 9 1]\n",
            " [4 5 6 9]]\n"
          ],
          "name": "stdout"
        }
      ]
    },
    {
      "cell_type": "code",
      "metadata": {
        "colab": {
          "base_uri": "https://localhost:8080/"
        },
        "id": "1n2nBacHOdm3",
        "outputId": "c1778616-11a8-4668-d035-2e89bfbc3cba"
      },
      "source": [
        "array2 = array1.reshape(2,8)\n",
        "print(array2)"
      ],
      "execution_count": 21,
      "outputs": [
        {
          "output_type": "stream",
          "text": [
            "[[1 2 3 6 4 5 6 6]\n",
            " [7 8 9 1 4 5 6 9]]\n",
            "9\n"
          ],
          "name": "stdout"
        }
      ]
    },
    {
      "cell_type": "code",
      "metadata": {
        "colab": {
          "base_uri": "https://localhost:8080/"
        },
        "id": "SSFSo1GpPpUA",
        "outputId": "45b60739-0197-4610-bce8-bfbbe20d1cec"
      },
      "source": [
        "array3 = array1.reshape(8,2)\n",
        "print(array3)"
      ],
      "execution_count": 20,
      "outputs": [
        {
          "output_type": "stream",
          "text": [
            "[[1 2]\n",
            " [3 6]\n",
            " [4 5]\n",
            " [6 6]\n",
            " [7 8]\n",
            " [9 1]\n",
            " [4 5]\n",
            " [6 9]]\n"
          ],
          "name": "stdout"
        }
      ]
    }
  ]
}