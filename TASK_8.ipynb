{
  "nbformat": 4,
  "nbformat_minor": 0,
  "metadata": {
    "colab": {
      "name": " TASK 8.ipynb",
      "provenance": [],
      "include_colab_link": true
    },
    "kernelspec": {
      "name": "python3",
      "display_name": "Python 3"
    },
    "language_info": {
      "name": "python"
    }
  },
  "cells": [
    {
      "cell_type": "markdown",
      "metadata": {
        "id": "view-in-github",
        "colab_type": "text"
      },
      "source": [
        "<a href=\"https://colab.research.google.com/github/Binshadcs/Learn.py/blob/main/TASK_8.ipynb\" target=\"_parent\"><img src=\"https://colab.research.google.com/assets/colab-badge.svg\" alt=\"Open In Colab\"/></a>"
      ]
    },
    {
      "cell_type": "markdown",
      "metadata": {
        "id": "slsGswYbJSo7"
      },
      "source": [
        "1. Generate a 3 x 3 matrix using random module."
      ]
    },
    {
      "cell_type": "code",
      "metadata": {
        "id": "GGRQSYyNJW9t",
        "colab": {
          "base_uri": "https://localhost:8080/"
        },
        "outputId": "24956953-7c8e-4b67-ea98-4d3f280e80ee"
      },
      "source": [
        "import numpy as np\n",
        "array = np.random.randint(10, size=(3,3))\n",
        "print(array)"
      ],
      "execution_count": 34,
      "outputs": [
        {
          "output_type": "stream",
          "text": [
            "[[5 2 4]\n",
            " [3 9 0]\n",
            " [2 3 4]]\n"
          ],
          "name": "stdout"
        }
      ]
    },
    {
      "cell_type": "markdown",
      "metadata": {
        "id": "4OB9KFX6JfYA"
      },
      "source": [
        "2. Generate two 4 x 4 matrix using numpy and \n",
        "\n",
        " a) Reshape it to 2 x 8matrix and vertically stack it.\n",
        "\n",
        " b) Reshape it to 2 x 8 matrix and horizontally stack it."
      ]
    },
    {
      "cell_type": "code",
      "metadata": {
        "colab": {
          "base_uri": "https://localhost:8080/"
        },
        "id": "RXAinAozOCtf",
        "outputId": "4978dc42-560c-42fd-f215-1b7635381cf0"
      },
      "source": [
        "list = [[1,2,3,6],[4,5,6,6],[7,8,9,1],[4,5,6,9]]\n",
        "array1 = np.array(list, dtype=int)\n",
        "print(array1)\n",
        "print(\"--------------------------\")\n",
        "shaped1 = array1.reshape(2,8)\n",
        "print(shaped1)"
      ],
      "execution_count": 46,
      "outputs": [
        {
          "output_type": "stream",
          "text": [
            "[[1 2 3 6]\n",
            " [4 5 6 6]\n",
            " [7 8 9 1]\n",
            " [4 5 6 9]]\n",
            "--------------------------\n",
            "[[1 2 3 6 4 5 6 6]\n",
            " [7 8 9 1 4 5 6 9]]\n"
          ],
          "name": "stdout"
        }
      ]
    },
    {
      "cell_type": "code",
      "metadata": {
        "colab": {
          "base_uri": "https://localhost:8080/"
        },
        "id": "SSFSo1GpPpUA",
        "outputId": "2be0ddea-c4d9-4dcc-93d5-1452e68ee084"
      },
      "source": [
        "array2 = np.random.randint(10, size=(4,4))\n",
        "print(array2)\n",
        "print(\"--------------------------\")\n",
        "shaped2 = array2.reshape(2,8)\n",
        "print(shaped2)"
      ],
      "execution_count": 47,
      "outputs": [
        {
          "output_type": "stream",
          "text": [
            "[[4 8 6 2]\n",
            " [5 1 4 8]\n",
            " [6 6 4 9]\n",
            " [0 6 8 6]]\n",
            "--------------------------\n",
            "[[4 8 6 2 5 1 4 8]\n",
            " [6 6 4 9 0 6 8 6]]\n"
          ],
          "name": "stdout"
        }
      ]
    },
    {
      "cell_type": "code",
      "metadata": {
        "colab": {
          "base_uri": "https://localhost:8080/"
        },
        "id": "jqA6E7n5V6So",
        "outputId": "e8725f2a-8a4e-42c9-b671-6548b5c15d0a"
      },
      "source": [
        "stacked = np.hstack((shaped1,shaped2))\n",
        "print(stacked)"
      ],
      "execution_count": 49,
      "outputs": [
        {
          "output_type": "stream",
          "text": [
            "[[1 2 3 6 4 5 6 6 4 8 6 2 5 1 4 8]\n",
            " [7 8 9 1 4 5 6 9 6 6 4 9 0 6 8 6]]\n"
          ],
          "name": "stdout"
        }
      ]
    },
    {
      "cell_type": "code",
      "metadata": {
        "colab": {
          "base_uri": "https://localhost:8080/"
        },
        "id": "vvA_PkT5WPEl",
        "outputId": "37c494d1-8713-48cc-e39f-c47d6b268e19"
      },
      "source": [
        "stacked = np.vstack((shaped1,shaped2))\n",
        "print(stacked)"
      ],
      "execution_count": 50,
      "outputs": [
        {
          "output_type": "stream",
          "text": [
            "[[1 2 3 6 4 5 6 6]\n",
            " [7 8 9 1 4 5 6 9]\n",
            " [4 8 6 2 5 1 4 8]\n",
            " [6 6 4 9 0 6 8 6]]\n"
          ],
          "name": "stdout"
        }
      ]
    }
  ]
}